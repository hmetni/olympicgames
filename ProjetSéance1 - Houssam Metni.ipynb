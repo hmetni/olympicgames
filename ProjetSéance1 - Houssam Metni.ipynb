{
 "cells": [
  {
   "cell_type": "markdown",
   "metadata": {},
   "source": [
    "# Séance projet 1\n",
    "\n",
    "## 1. Préparation du travail\n",
    "**Question 1 :** Importer ci-dessous tous les modules que vous jugerez nécessaires."
   ]
  },
  {
   "cell_type": "code",
   "execution_count": 12,
   "metadata": {},
   "outputs": [],
   "source": [
    "# Imports nécessaires\n",
    "\n",
    "import pandas as pd\n",
    "\n",
    "import csv\n",
    "\n",
    "# Nous n'aurons pas besoin d'importer d'autre librairies pour cette séance"
   ]
  },
  {
   "cell_type": "markdown",
   "metadata": {},
   "source": [
    "**Question 2 :** Charger le jeu de données qui se trouve dans le fichier `JO.csv` et afficher les 5 premières lignes pour vérifier que le chargement a été effectué correctement. \n",
    "\n",
    "Pensez à télécharger au préalable le fichier `JO.csv` et à le placer dans le même dossier que votre notebook.\n",
    "\n",
    "Si vous avez importé le notebook sur Google Colab, il faut exécuter la cellule ci-dessous au préalable pour télécharger votre jeu de données dans votre environnement de travail sur Colab (inutile dans le cas où vous exécutez le notebook sur votre propre machine) :"
   ]
  },
  {
   "cell_type": "code",
   "execution_count": 2,
   "metadata": {},
   "outputs": [
    {
     "name": "stdout",
     "output_type": "stream",
     "text": [
      "dyld: Library not loaded: /usr/local/opt/gettext/lib/libintl.8.dylib\r\n",
      "  Referenced from: /usr/local/bin/wget\r\n",
      "  Reason: image not found\r\n"
     ]
    }
   ],
   "source": [
    "!wget https://git.unistra.fr/dbernhard/isdd_data/raw/master/JO.csv"
   ]
  },
  {
   "cell_type": "code",
   "execution_count": 3,
   "metadata": {},
   "outputs": [
    {
     "data": {
      "text/html": [
       "<div>\n",
       "<style scoped>\n",
       "    .dataframe tbody tr th:only-of-type {\n",
       "        vertical-align: middle;\n",
       "    }\n",
       "\n",
       "    .dataframe tbody tr th {\n",
       "        vertical-align: top;\n",
       "    }\n",
       "\n",
       "    .dataframe thead th {\n",
       "        text-align: right;\n",
       "    }\n",
       "</style>\n",
       "<table border=\"1\" class=\"dataframe\">\n",
       "  <thead>\n",
       "    <tr style=\"text-align: right;\">\n",
       "      <th></th>\n",
       "      <th>ID</th>\n",
       "      <th>Name</th>\n",
       "      <th>Sex</th>\n",
       "      <th>Age</th>\n",
       "      <th>Height</th>\n",
       "      <th>Weight</th>\n",
       "      <th>Team</th>\n",
       "      <th>NOC</th>\n",
       "      <th>Games</th>\n",
       "      <th>Year</th>\n",
       "      <th>Season</th>\n",
       "      <th>City</th>\n",
       "      <th>Sport</th>\n",
       "      <th>Event</th>\n",
       "      <th>Medal</th>\n",
       "      <th>country</th>\n",
       "    </tr>\n",
       "  </thead>\n",
       "  <tbody>\n",
       "    <tr>\n",
       "      <th>0</th>\n",
       "      <td>1</td>\n",
       "      <td>A Dijiang</td>\n",
       "      <td>M</td>\n",
       "      <td>24.0</td>\n",
       "      <td>180.0</td>\n",
       "      <td>80.0</td>\n",
       "      <td>China</td>\n",
       "      <td>CHN</td>\n",
       "      <td>1992 Summer</td>\n",
       "      <td>1992</td>\n",
       "      <td>Summer</td>\n",
       "      <td>Barcelona</td>\n",
       "      <td>Basketball</td>\n",
       "      <td>Basketball Men's Basketball</td>\n",
       "      <td>NaN</td>\n",
       "      <td>China</td>\n",
       "    </tr>\n",
       "    <tr>\n",
       "      <th>1</th>\n",
       "      <td>2</td>\n",
       "      <td>A Lamusi</td>\n",
       "      <td>M</td>\n",
       "      <td>23.0</td>\n",
       "      <td>170.0</td>\n",
       "      <td>60.0</td>\n",
       "      <td>China</td>\n",
       "      <td>CHN</td>\n",
       "      <td>2012 Summer</td>\n",
       "      <td>2012</td>\n",
       "      <td>Summer</td>\n",
       "      <td>London</td>\n",
       "      <td>Judo</td>\n",
       "      <td>Judo Men's Extra-Lightweight</td>\n",
       "      <td>NaN</td>\n",
       "      <td>China</td>\n",
       "    </tr>\n",
       "    <tr>\n",
       "      <th>2</th>\n",
       "      <td>602</td>\n",
       "      <td>Abudoureheman</td>\n",
       "      <td>M</td>\n",
       "      <td>22.0</td>\n",
       "      <td>182.0</td>\n",
       "      <td>75.0</td>\n",
       "      <td>China</td>\n",
       "      <td>CHN</td>\n",
       "      <td>2000 Summer</td>\n",
       "      <td>2000</td>\n",
       "      <td>Summer</td>\n",
       "      <td>Sydney</td>\n",
       "      <td>Boxing</td>\n",
       "      <td>Boxing Men's Middleweight</td>\n",
       "      <td>NaN</td>\n",
       "      <td>China</td>\n",
       "    </tr>\n",
       "    <tr>\n",
       "      <th>3</th>\n",
       "      <td>1463</td>\n",
       "      <td>Ai Linuer</td>\n",
       "      <td>M</td>\n",
       "      <td>25.0</td>\n",
       "      <td>160.0</td>\n",
       "      <td>62.0</td>\n",
       "      <td>China</td>\n",
       "      <td>CHN</td>\n",
       "      <td>2004 Summer</td>\n",
       "      <td>2004</td>\n",
       "      <td>Summer</td>\n",
       "      <td>Athina</td>\n",
       "      <td>Wrestling</td>\n",
       "      <td>Wrestling Men's Lightweight, Greco-Roman</td>\n",
       "      <td>NaN</td>\n",
       "      <td>China</td>\n",
       "    </tr>\n",
       "    <tr>\n",
       "      <th>4</th>\n",
       "      <td>1464</td>\n",
       "      <td>Ai Yanhan</td>\n",
       "      <td>F</td>\n",
       "      <td>14.0</td>\n",
       "      <td>168.0</td>\n",
       "      <td>54.0</td>\n",
       "      <td>China</td>\n",
       "      <td>CHN</td>\n",
       "      <td>2016 Summer</td>\n",
       "      <td>2016</td>\n",
       "      <td>Summer</td>\n",
       "      <td>Rio de Janeiro</td>\n",
       "      <td>Swimming</td>\n",
       "      <td>Swimming Women's 200 metres Freestyle</td>\n",
       "      <td>NaN</td>\n",
       "      <td>China</td>\n",
       "    </tr>\n",
       "  </tbody>\n",
       "</table>\n",
       "</div>"
      ],
      "text/plain": [
       "     ID           Name Sex   Age  Height  Weight   Team  NOC        Games  \\\n",
       "0     1      A Dijiang   M  24.0   180.0    80.0  China  CHN  1992 Summer   \n",
       "1     2       A Lamusi   M  23.0   170.0    60.0  China  CHN  2012 Summer   \n",
       "2   602  Abudoureheman   M  22.0   182.0    75.0  China  CHN  2000 Summer   \n",
       "3  1463      Ai Linuer   M  25.0   160.0    62.0  China  CHN  2004 Summer   \n",
       "4  1464      Ai Yanhan   F  14.0   168.0    54.0  China  CHN  2016 Summer   \n",
       "\n",
       "   Year  Season            City       Sport  \\\n",
       "0  1992  Summer       Barcelona  Basketball   \n",
       "1  2012  Summer          London        Judo   \n",
       "2  2000  Summer          Sydney      Boxing   \n",
       "3  2004  Summer          Athina   Wrestling   \n",
       "4  2016  Summer  Rio de Janeiro    Swimming   \n",
       "\n",
       "                                      Event Medal country  \n",
       "0               Basketball Men's Basketball   NaN   China  \n",
       "1              Judo Men's Extra-Lightweight   NaN   China  \n",
       "2                 Boxing Men's Middleweight   NaN   China  \n",
       "3  Wrestling Men's Lightweight, Greco-Roman   NaN   China  \n",
       "4     Swimming Women's 200 metres Freestyle   NaN   China  "
      ]
     },
     "execution_count": 3,
     "metadata": {},
     "output_type": "execute_result"
    }
   ],
   "source": [
    "# Chargement du jeu de données et affichage des 5 premières lignes\n",
    "\n",
    "raw_data = pd.read_csv('JO.csv')\n",
    "\n",
    "raw_data.head(n=5)"
   ]
  },
  {
   "cell_type": "markdown",
   "metadata": {},
   "source": [
    "**Question 3 :** Y a-t'il une ou des colonnes qui peut/peuvent servir d'index dans le DataFrame ? Autrement dit, quelle information utiliser pour identifier de manière unique chaque individu, au sens statistique du terme, de ce jeu de données ? Vous pouvez essayer de rechercher un de vos athlètes préférés pour vérifier cela."
   ]
  },
  {
   "cell_type": "code",
   "execution_count": 4,
   "metadata": {},
   "outputs": [],
   "source": [
    "# On pourrait indexer nos données à l'aide de la colonne 'ID'\n",
    "\n",
    "raw_data.index = raw_data['ID']"
   ]
  },
  {
   "cell_type": "code",
   "execution_count": 5,
   "metadata": {},
   "outputs": [
    {
     "data": {
      "text/html": [
       "<div>\n",
       "<style scoped>\n",
       "    .dataframe tbody tr th:only-of-type {\n",
       "        vertical-align: middle;\n",
       "    }\n",
       "\n",
       "    .dataframe tbody tr th {\n",
       "        vertical-align: top;\n",
       "    }\n",
       "\n",
       "    .dataframe thead th {\n",
       "        text-align: right;\n",
       "    }\n",
       "</style>\n",
       "<table border=\"1\" class=\"dataframe\">\n",
       "  <thead>\n",
       "    <tr style=\"text-align: right;\">\n",
       "      <th></th>\n",
       "      <th>ID</th>\n",
       "      <th>Name</th>\n",
       "      <th>Medal</th>\n",
       "    </tr>\n",
       "    <tr>\n",
       "      <th>ID</th>\n",
       "      <th></th>\n",
       "      <th></th>\n",
       "      <th></th>\n",
       "    </tr>\n",
       "  </thead>\n",
       "  <tbody>\n",
       "    <tr>\n",
       "      <th>13029</th>\n",
       "      <td>13029</td>\n",
       "      <td>Usain St. Leo Bolt</td>\n",
       "      <td>NaN</td>\n",
       "    </tr>\n",
       "    <tr>\n",
       "      <th>13029</th>\n",
       "      <td>13029</td>\n",
       "      <td>Usain St. Leo Bolt</td>\n",
       "      <td>Gold</td>\n",
       "    </tr>\n",
       "    <tr>\n",
       "      <th>13029</th>\n",
       "      <td>13029</td>\n",
       "      <td>Usain St. Leo Bolt</td>\n",
       "      <td>Gold</td>\n",
       "    </tr>\n",
       "    <tr>\n",
       "      <th>13029</th>\n",
       "      <td>13029</td>\n",
       "      <td>Usain St. Leo Bolt</td>\n",
       "      <td>NaN</td>\n",
       "    </tr>\n",
       "    <tr>\n",
       "      <th>13029</th>\n",
       "      <td>13029</td>\n",
       "      <td>Usain St. Leo Bolt</td>\n",
       "      <td>Gold</td>\n",
       "    </tr>\n",
       "    <tr>\n",
       "      <th>13029</th>\n",
       "      <td>13029</td>\n",
       "      <td>Usain St. Leo Bolt</td>\n",
       "      <td>Gold</td>\n",
       "    </tr>\n",
       "    <tr>\n",
       "      <th>13029</th>\n",
       "      <td>13029</td>\n",
       "      <td>Usain St. Leo Bolt</td>\n",
       "      <td>Gold</td>\n",
       "    </tr>\n",
       "    <tr>\n",
       "      <th>13029</th>\n",
       "      <td>13029</td>\n",
       "      <td>Usain St. Leo Bolt</td>\n",
       "      <td>Gold</td>\n",
       "    </tr>\n",
       "    <tr>\n",
       "      <th>13029</th>\n",
       "      <td>13029</td>\n",
       "      <td>Usain St. Leo Bolt</td>\n",
       "      <td>Gold</td>\n",
       "    </tr>\n",
       "    <tr>\n",
       "      <th>13029</th>\n",
       "      <td>13029</td>\n",
       "      <td>Usain St. Leo Bolt</td>\n",
       "      <td>Gold</td>\n",
       "    </tr>\n",
       "    <tr>\n",
       "      <th>13029</th>\n",
       "      <td>13029</td>\n",
       "      <td>Usain St. Leo Bolt</td>\n",
       "      <td>Gold</td>\n",
       "    </tr>\n",
       "    <tr>\n",
       "      <th>13029</th>\n",
       "      <td>13029</td>\n",
       "      <td>Usain St. Leo Bolt</td>\n",
       "      <td>Gold</td>\n",
       "    </tr>\n",
       "    <tr>\n",
       "      <th>13029</th>\n",
       "      <td>13029</td>\n",
       "      <td>Usain St. Leo Bolt</td>\n",
       "      <td>Gold</td>\n",
       "    </tr>\n",
       "  </tbody>\n",
       "</table>\n",
       "</div>"
      ],
      "text/plain": [
       "          ID                Name Medal\n",
       "ID                                    \n",
       "13029  13029  Usain St. Leo Bolt   NaN\n",
       "13029  13029  Usain St. Leo Bolt  Gold\n",
       "13029  13029  Usain St. Leo Bolt  Gold\n",
       "13029  13029  Usain St. Leo Bolt   NaN\n",
       "13029  13029  Usain St. Leo Bolt  Gold\n",
       "13029  13029  Usain St. Leo Bolt  Gold\n",
       "13029  13029  Usain St. Leo Bolt  Gold\n",
       "13029  13029  Usain St. Leo Bolt  Gold\n",
       "13029  13029  Usain St. Leo Bolt  Gold\n",
       "13029  13029  Usain St. Leo Bolt  Gold\n",
       "13029  13029  Usain St. Leo Bolt  Gold\n",
       "13029  13029  Usain St. Leo Bolt  Gold\n",
       "13029  13029  Usain St. Leo Bolt  Gold"
      ]
     },
     "execution_count": 5,
     "metadata": {},
     "output_type": "execute_result"
    }
   ],
   "source": [
    "# Vérifications pour répondre à la question :  chercher l'athlète Usain Bolt\n",
    "\n",
    "usain_bolt = raw_data[raw_data['Name'].str.contains(\"Usain\", na=False)]\n",
    "\n",
    "usain_bolt[['ID','Name','Medal']]"
   ]
  },
  {
   "cell_type": "markdown",
   "metadata": {},
   "source": [
    "=======> **Nous remarquons que l'ID unique de Usain Bolt est 13029, ce qui signifie qu'il est raisonnable d'indexer les athlètes par ID**"
   ]
  },
  {
   "cell_type": "code",
   "execution_count": 6,
   "metadata": {},
   "outputs": [
    {
     "data": {
      "text/html": [
       "<div>\n",
       "<style scoped>\n",
       "    .dataframe tbody tr th:only-of-type {\n",
       "        vertical-align: middle;\n",
       "    }\n",
       "\n",
       "    .dataframe tbody tr th {\n",
       "        vertical-align: top;\n",
       "    }\n",
       "\n",
       "    .dataframe thead th {\n",
       "        text-align: right;\n",
       "    }\n",
       "</style>\n",
       "<table border=\"1\" class=\"dataframe\">\n",
       "  <thead>\n",
       "    <tr style=\"text-align: right;\">\n",
       "      <th></th>\n",
       "      <th>ID</th>\n",
       "      <th>Name</th>\n",
       "      <th>Sex</th>\n",
       "      <th>Age</th>\n",
       "      <th>Height</th>\n",
       "      <th>Weight</th>\n",
       "      <th>Team</th>\n",
       "      <th>NOC</th>\n",
       "      <th>Games</th>\n",
       "      <th>Year</th>\n",
       "      <th>Season</th>\n",
       "      <th>City</th>\n",
       "      <th>Sport</th>\n",
       "      <th>Event</th>\n",
       "      <th>Medal</th>\n",
       "      <th>country</th>\n",
       "    </tr>\n",
       "    <tr>\n",
       "      <th>ID</th>\n",
       "      <th></th>\n",
       "      <th></th>\n",
       "      <th></th>\n",
       "      <th></th>\n",
       "      <th></th>\n",
       "      <th></th>\n",
       "      <th></th>\n",
       "      <th></th>\n",
       "      <th></th>\n",
       "      <th></th>\n",
       "      <th></th>\n",
       "      <th></th>\n",
       "      <th></th>\n",
       "      <th></th>\n",
       "      <th></th>\n",
       "      <th></th>\n",
       "    </tr>\n",
       "  </thead>\n",
       "  <tbody>\n",
       "    <tr>\n",
       "      <th>23</th>\n",
       "      <td>23</td>\n",
       "      <td>Fritz Aanes</td>\n",
       "      <td>M</td>\n",
       "      <td>22.0</td>\n",
       "      <td>187.0</td>\n",
       "      <td>89.0</td>\n",
       "      <td>Norway</td>\n",
       "      <td>NOR</td>\n",
       "      <td>2000 Summer</td>\n",
       "      <td>2000</td>\n",
       "      <td>Summer</td>\n",
       "      <td>Sydney</td>\n",
       "      <td>Wrestling</td>\n",
       "      <td>Wrestling Men's Light-Heavyweight, Greco-Roman</td>\n",
       "      <td>NaN</td>\n",
       "      <td>Norway</td>\n",
       "    </tr>\n",
       "    <tr>\n",
       "      <th>23</th>\n",
       "      <td>23</td>\n",
       "      <td>Fritz Aanes</td>\n",
       "      <td>M</td>\n",
       "      <td>26.0</td>\n",
       "      <td>187.0</td>\n",
       "      <td>89.0</td>\n",
       "      <td>Norway</td>\n",
       "      <td>NOR</td>\n",
       "      <td>2004 Summer</td>\n",
       "      <td>2004</td>\n",
       "      <td>Summer</td>\n",
       "      <td>Athina</td>\n",
       "      <td>Wrestling</td>\n",
       "      <td>Wrestling Men's Light-Heavyweight, Greco-Roman</td>\n",
       "      <td>NaN</td>\n",
       "      <td>Norway</td>\n",
       "    </tr>\n",
       "  </tbody>\n",
       "</table>\n",
       "</div>"
      ],
      "text/plain": [
       "    ID         Name Sex   Age  Height  Weight    Team  NOC        Games  Year  \\\n",
       "ID                                                                              \n",
       "23  23  Fritz Aanes   M  22.0   187.0    89.0  Norway  NOR  2000 Summer  2000   \n",
       "23  23  Fritz Aanes   M  26.0   187.0    89.0  Norway  NOR  2004 Summer  2004   \n",
       "\n",
       "    Season    City      Sport                                           Event  \\\n",
       "ID                                                                              \n",
       "23  Summer  Sydney  Wrestling  Wrestling Men's Light-Heavyweight, Greco-Roman   \n",
       "23  Summer  Athina  Wrestling  Wrestling Men's Light-Heavyweight, Greco-Roman   \n",
       "\n",
       "   Medal country  \n",
       "ID                \n",
       "23   NaN  Norway  \n",
       "23   NaN  Norway  "
      ]
     },
     "execution_count": 6,
     "metadata": {},
     "output_type": "execute_result"
    }
   ],
   "source": [
    "# Inversement, nous pouvons également chercher le nom de l'athlète correspondant à un ID donné\n",
    "\n",
    "athlete23 = raw_data[raw_data.index == 23] #Athlète dont le ID est 23\n",
    "\n",
    "athlete23.head()"
   ]
  },
  {
   "cell_type": "markdown",
   "metadata": {},
   "source": [
    "=======> **L'athlète dont l'ID est 23 est le norvégien Fritz Aanes** "
   ]
  },
  {
   "cell_type": "markdown",
   "metadata": {},
   "source": [
    "## 2. Nettoyage des données"
   ]
  },
  {
   "cell_type": "markdown",
   "metadata": {},
   "source": [
    "**Question 4 :** Y a-t-il des doublons dans ce jeu de données ? Si oui, proposez une solution pour supprimer les doublons."
   ]
  },
  {
   "cell_type": "code",
   "execution_count": 7,
   "metadata": {},
   "outputs": [
    {
     "name": "stdout",
     "output_type": "stream",
     "text": [
      "283652\n",
      "269382\n",
      "14270\n"
     ]
    }
   ],
   "source": [
    "# Vérification de la présence de doublons et proposition de solution\n",
    "\n",
    "data = raw_data.drop_duplicates()\n",
    "\n",
    "print(len(raw_data)) # nombre de toutes les données, les dupliquées incluses\n",
    "\n",
    "print(len(data)) # nombre de données non dupliquées \n",
    "\n",
    "print(len(raw_data)-len(data)) # nombre de données dupliquées"
   ]
  },
  {
   "cell_type": "markdown",
   "metadata": {},
   "source": [
    "=======> **Il y avait donc 14270 données dupliquées qu'on a a présent supprimées pour avoir notre nouveau dataset data**"
   ]
  },
  {
   "cell_type": "markdown",
   "metadata": {},
   "source": [
    "**Question 5 :** Les informations dont on dispose sont-elles complètes pour tous les athlètes ? Si des valeurs sont manquantes, pouvez-vous l'expliquer ?\n",
    "\n",
    "On rappelle que d'un point de vue informatique, une case vide dans le csv est interprétée comme un `Nan` par la machine"
   ]
  },
  {
   "cell_type": "code",
   "execution_count": 8,
   "metadata": {},
   "outputs": [
    {
     "name": "stdout",
     "output_type": "stream",
     "text": [
      "269382\n",
      "30172\n"
     ]
    }
   ],
   "source": [
    "# Vérification de l'absence de valeurs dans le jeu de données et proposition de solution\n",
    "\n",
    "print(len(data))\n",
    "\n",
    "DATA2 = data.dropna(how='any')\n",
    "\n",
    "print(len(DATA2))"
   ]
  },
  {
   "cell_type": "markdown",
   "metadata": {},
   "source": [
    "=======> **Quand nous enlevons toutes les lignes dans lesquelles il manque une des valeurs, il en reste 30172 sur 269382**"
   ]
  },
  {
   "cell_type": "markdown",
   "metadata": {},
   "source": [
    "Cependant, enlever toutes ces valeurs n'est pas un choix rationnel. En effet, on remarque que pour la plupart des athlètes le champ **\"Medal\"** est vide car ils n'ont remporté aucune médaille. Ainsi, tout ce qu'il nous resterait dans notre base de données seraient les athlètes avec médaille. Or les athlètes qui n'ont pas remporté de médailles sont aussi importants."
   ]
  },
  {
   "cell_type": "markdown",
   "metadata": {},
   "source": [
    "=======> **Par conséquent, nous remplacerons dans la colonne \"Medal\" tous les NaN par des 0.** On pourra par la suite dans une future séance envisager, si nécessaire, d'attribuer des valeurs numériques pour le reste des médailles, par ex:  Bronze 1 Silver 2 et Gold 3"
   ]
  },
  {
   "cell_type": "code",
   "execution_count": 9,
   "metadata": {},
   "outputs": [
    {
     "name": "stdout",
     "output_type": "stream",
     "text": [
      "269382\n"
     ]
    },
    {
     "name": "stderr",
     "output_type": "stream",
     "text": [
      "/opt/anaconda3/lib/python3.7/site-packages/pandas/core/generic.py:6245: SettingWithCopyWarning: \n",
      "A value is trying to be set on a copy of a slice from a DataFrame\n",
      "\n",
      "See the caveats in the documentation: https://pandas.pydata.org/pandas-docs/stable/user_guide/indexing.html#returning-a-view-versus-a-copy\n",
      "  self._update_inplace(new_data)\n"
     ]
    },
    {
     "data": {
      "text/html": [
       "<div>\n",
       "<style scoped>\n",
       "    .dataframe tbody tr th:only-of-type {\n",
       "        vertical-align: middle;\n",
       "    }\n",
       "\n",
       "    .dataframe tbody tr th {\n",
       "        vertical-align: top;\n",
       "    }\n",
       "\n",
       "    .dataframe thead th {\n",
       "        text-align: right;\n",
       "    }\n",
       "</style>\n",
       "<table border=\"1\" class=\"dataframe\">\n",
       "  <thead>\n",
       "    <tr style=\"text-align: right;\">\n",
       "      <th></th>\n",
       "      <th>ID</th>\n",
       "      <th>Name</th>\n",
       "      <th>Medal</th>\n",
       "    </tr>\n",
       "    <tr>\n",
       "      <th>ID</th>\n",
       "      <th></th>\n",
       "      <th></th>\n",
       "      <th></th>\n",
       "    </tr>\n",
       "  </thead>\n",
       "  <tbody>\n",
       "    <tr>\n",
       "      <th>1</th>\n",
       "      <td>1</td>\n",
       "      <td>A Dijiang</td>\n",
       "      <td>0</td>\n",
       "    </tr>\n",
       "    <tr>\n",
       "      <th>2</th>\n",
       "      <td>2</td>\n",
       "      <td>A Lamusi</td>\n",
       "      <td>0</td>\n",
       "    </tr>\n",
       "    <tr>\n",
       "      <th>602</th>\n",
       "      <td>602</td>\n",
       "      <td>Abudoureheman</td>\n",
       "      <td>0</td>\n",
       "    </tr>\n",
       "    <tr>\n",
       "      <th>1463</th>\n",
       "      <td>1463</td>\n",
       "      <td>Ai Linuer</td>\n",
       "      <td>0</td>\n",
       "    </tr>\n",
       "    <tr>\n",
       "      <th>1464</th>\n",
       "      <td>1464</td>\n",
       "      <td>Ai Yanhan</td>\n",
       "      <td>0</td>\n",
       "    </tr>\n",
       "  </tbody>\n",
       "</table>\n",
       "</div>"
      ],
      "text/plain": [
       "        ID           Name Medal\n",
       "ID                             \n",
       "1        1      A Dijiang     0\n",
       "2        2       A Lamusi     0\n",
       "602    602  Abudoureheman     0\n",
       "1463  1463      Ai Linuer     0\n",
       "1464  1464      Ai Yanhan     0"
      ]
     },
     "execution_count": 9,
     "metadata": {},
     "output_type": "execute_result"
    }
   ],
   "source": [
    "# remplacer toutes les NaN par des 0\n",
    "\n",
    "data[\"Medal\"].fillna(0, inplace = True)\n",
    "\n",
    "print(len(data))\n",
    "\n",
    "data.head()[[\"ID\",\"Name\",\"Medal\"]]\n",
    "\n",
    "# le paramètre \"inplace = True\" est important pour remplacer l'ancien dataset 'data' par sa nouvelle version"
   ]
  },
  {
   "cell_type": "code",
   "execution_count": 10,
   "metadata": {},
   "outputs": [
    {
     "data": {
      "text/html": [
       "<div>\n",
       "<style scoped>\n",
       "    .dataframe tbody tr th:only-of-type {\n",
       "        vertical-align: middle;\n",
       "    }\n",
       "\n",
       "    .dataframe tbody tr th {\n",
       "        vertical-align: top;\n",
       "    }\n",
       "\n",
       "    .dataframe thead th {\n",
       "        text-align: right;\n",
       "    }\n",
       "</style>\n",
       "<table border=\"1\" class=\"dataframe\">\n",
       "  <thead>\n",
       "    <tr style=\"text-align: right;\">\n",
       "      <th></th>\n",
       "      <th>ID</th>\n",
       "      <th>Name</th>\n",
       "      <th>Medal</th>\n",
       "    </tr>\n",
       "    <tr>\n",
       "      <th>ID</th>\n",
       "      <th></th>\n",
       "      <th></th>\n",
       "      <th></th>\n",
       "    </tr>\n",
       "  </thead>\n",
       "  <tbody>\n",
       "    <tr>\n",
       "      <th>13029</th>\n",
       "      <td>13029</td>\n",
       "      <td>Usain St. Leo Bolt</td>\n",
       "      <td>0</td>\n",
       "    </tr>\n",
       "    <tr>\n",
       "      <th>13029</th>\n",
       "      <td>13029</td>\n",
       "      <td>Usain St. Leo Bolt</td>\n",
       "      <td>Gold</td>\n",
       "    </tr>\n",
       "    <tr>\n",
       "      <th>13029</th>\n",
       "      <td>13029</td>\n",
       "      <td>Usain St. Leo Bolt</td>\n",
       "      <td>Gold</td>\n",
       "    </tr>\n",
       "    <tr>\n",
       "      <th>13029</th>\n",
       "      <td>13029</td>\n",
       "      <td>Usain St. Leo Bolt</td>\n",
       "      <td>0</td>\n",
       "    </tr>\n",
       "    <tr>\n",
       "      <th>13029</th>\n",
       "      <td>13029</td>\n",
       "      <td>Usain St. Leo Bolt</td>\n",
       "      <td>Gold</td>\n",
       "    </tr>\n",
       "    <tr>\n",
       "      <th>13029</th>\n",
       "      <td>13029</td>\n",
       "      <td>Usain St. Leo Bolt</td>\n",
       "      <td>Gold</td>\n",
       "    </tr>\n",
       "    <tr>\n",
       "      <th>13029</th>\n",
       "      <td>13029</td>\n",
       "      <td>Usain St. Leo Bolt</td>\n",
       "      <td>Gold</td>\n",
       "    </tr>\n",
       "    <tr>\n",
       "      <th>13029</th>\n",
       "      <td>13029</td>\n",
       "      <td>Usain St. Leo Bolt</td>\n",
       "      <td>Gold</td>\n",
       "    </tr>\n",
       "    <tr>\n",
       "      <th>13029</th>\n",
       "      <td>13029</td>\n",
       "      <td>Usain St. Leo Bolt</td>\n",
       "      <td>Gold</td>\n",
       "    </tr>\n",
       "    <tr>\n",
       "      <th>13029</th>\n",
       "      <td>13029</td>\n",
       "      <td>Usain St. Leo Bolt</td>\n",
       "      <td>Gold</td>\n",
       "    </tr>\n",
       "  </tbody>\n",
       "</table>\n",
       "</div>"
      ],
      "text/plain": [
       "          ID                Name Medal\n",
       "ID                                    \n",
       "13029  13029  Usain St. Leo Bolt     0\n",
       "13029  13029  Usain St. Leo Bolt  Gold\n",
       "13029  13029  Usain St. Leo Bolt  Gold\n",
       "13029  13029  Usain St. Leo Bolt     0\n",
       "13029  13029  Usain St. Leo Bolt  Gold\n",
       "13029  13029  Usain St. Leo Bolt  Gold\n",
       "13029  13029  Usain St. Leo Bolt  Gold\n",
       "13029  13029  Usain St. Leo Bolt  Gold\n",
       "13029  13029  Usain St. Leo Bolt  Gold\n",
       "13029  13029  Usain St. Leo Bolt  Gold"
      ]
     },
     "execution_count": 10,
     "metadata": {},
     "output_type": "execute_result"
    }
   ],
   "source": [
    "# Nous remarquons bien que les NaN ont été remplacées par des 0\n",
    "\n",
    "usain_bolt = data[data['Name'].str.contains(\"Usain\", na=False)]\n",
    "\n",
    "usain_bolt[['ID','Name','Medal']]\n",
    "\n",
    "# En prenant l'exemple de Usain Bolt on peut s'assurer que l'on a pas mis des 0 partout"
   ]
  },
  {
   "cell_type": "markdown",
   "metadata": {},
   "source": [
    "A présent, nous pouvons enlever toutes les lignes où il y a des valeurs manquantes car nous pouvons pas reproduire pour les autres colonnes ce qu'on a fait pour **\"Medal\"**. En effet, des données telles que **\"Age\"**, **\"Weight\"** et **\"Height\"** ne peuvent pas valoir 0 d'où la nécessité **d'enlever les lignes avec valeurs manquantes**."
   ]
  },
  {
   "cell_type": "code",
   "execution_count": 11,
   "metadata": {},
   "outputs": [
    {
     "name": "stdout",
     "output_type": "stream",
     "text": [
      "269382\n",
      "205882\n"
     ]
    }
   ],
   "source": [
    "# Enlever le reste des lignes avec valeurs manquantes (sans compter \"Medal\") \n",
    "\n",
    "DATA3 = data.dropna(how='any')\n",
    "\n",
    "print(len(data)) # nombre de données avant\n",
    "\n",
    "print(len(DATA3)) # nombre de données final"
   ]
  },
  {
   "cell_type": "markdown",
   "metadata": {},
   "source": [
    "=======> **Nous avons donc une base de données \"nettoyée\" de 205882 lignes après avoir enlevé les doublons et les lignes avec valeurs manquantes (sans prendre en compte les médailles car cela nous aurait induits en erreur)**"
   ]
  },
  {
   "cell_type": "code",
   "execution_count": null,
   "metadata": {},
   "outputs": [],
   "source": []
  }
 ],
 "metadata": {
  "kernelspec": {
   "display_name": "Python 3",
   "language": "python",
   "name": "python3"
  },
  "language_info": {
   "codemirror_mode": {
    "name": "ipython",
    "version": 3
   },
   "file_extension": ".py",
   "mimetype": "text/x-python",
   "name": "python",
   "nbconvert_exporter": "python",
   "pygments_lexer": "ipython3",
   "version": "3.7.6"
  }
 },
 "nbformat": 4,
 "nbformat_minor": 2
}
